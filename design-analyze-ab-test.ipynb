{
 "cells": [
  {
   "cell_type": "markdown",
   "metadata": {},
   "source": [
    "# Designing and Analyzing the Results of an A/B Test"
   ]
  },
  {
   "cell_type": "markdown",
   "metadata": {},
   "source": [
    "## Experiment Overview"
   ]
  },
  {
   "cell_type": "markdown",
   "metadata": {},
   "source": [
    "Udacity is an online education company.  In this experiment, they tested a change to their course sign-up.  After clicking the “Start free trial” button, users were prompted to state how many hours per week they could dedicate to the course.  If a user entered fewer than five hours then they were told that they would need to devote more time than that.  In addition, Udacity proffered the information that the course materials could be accessed for free if the user was unsure of their commitment.  If the user entered more than five hours then they were directed to enter their credit card information and start their 14-day free trial."
   ]
  },
  {
   "cell_type": "markdown",
   "metadata": {},
   "source": [
    "<img src = \"course-sign-up.png\">\n",
    "> Screen capture of the experimental treatment"
   ]
  },
  {
   "cell_type": "markdown",
   "metadata": {},
   "source": [
    "In creating this change, Udacity was interested in determining if this “warning” would help users to better understand the commitment required of the course, and hence decrease future frustration.  Udacity hopes this will lead more users to finish their free trial and continue to remain enrolled into the first pay period."
   ]
  },
  {
   "cell_type": "markdown",
   "metadata": {},
   "source": [
    "## Experiment Design"
   ]
  },
  {
   "cell_type": "markdown",
   "metadata": {},
   "source": [
    "### Metric Choices"
   ]
  },
  {
   "cell_type": "markdown",
   "metadata": {},
   "source": [
    "Invariant Metrics:\n",
    "* Number of unique cookies to view the course overview page\n",
    "* Number of unique clicks to click the “Start free trial” button\n",
    "* Click-through-probability of clicking “Start free trial” button from the course overview page\n",
    "\n",
    "Evaluation Metrics:\n",
    "* Gross conversion: number of user-ids to complete checkout divided by the number of unique cookies to click the “Start free trial” button\n",
    "* Net conversion: number of user-ids to remain enrolled past the 14-day boundary divided by the number of unique cookies to click the “Start free trial” button\n"
   ]
  },
  {
   "cell_type": "markdown",
   "metadata": {},
   "source": [
    "#### Invariant Metrics"
   ]
  },
  {
   "cell_type": "markdown",
   "metadata": {},
   "source": [
    "Invariant metrics shouldn’t change across the experiment and control groups.  We use invariant metrics to size our experiment and ensure that our experiment is run properly.  \n",
    "\n",
    "I chose the following as invariant metrics:\n",
    "* Number of unique cookies to view the course overview page\n",
    "* Number of unique clicks to click the “Start free trial” button\n",
    "* Click-through-probability of clicking “Start free trial” button from the course overview page\n",
    "\n",
    "Since we are not making any changes before the user presses the button, we would want the same number of clicks to the button and the same click-through-probability for it, as well as the same number of cookies (as a proxy for users) to visit the course overview page in both the experiment and control groups.  A metric I would not use for invariant checking is the number of users who enrolled in the free trial.  Our experiment may, and is meant to, affect how many users decide to enroll by possibly convincing the less fervent to access free course materials in lieu of starting the free trial.\n",
    "\n",
    "These metrics were chosen as a way to make sure our two groups are sized similarly and to provide sanity checks.  The experiment does not affect any part of the user experience before the pressing of the “Start free trial” button, so if there are differences between the experimental and control groups for these metrics there is an error with the setup of the experiment, event-capturing, etc."
   ]
  },
  {
   "cell_type": "markdown",
   "metadata": {},
   "source": [
    "#### Evaluation Metrics"
   ]
  },
  {
   "cell_type": "markdown",
   "metadata": {},
   "source": [
    "Evaluation metrics are used to compare the experiment and control groups after the treatment has been applied; these metrics are used to determine if the experiment was a success.\n",
    "\n",
    "I chose the following as evaluation metrics:\n",
    "* Gross conversion: number of user-ids to complete checkout divided by the number of unique cookies to click the “Start free trial” button\n",
    "* Net conversion: number of user-ids to remain enrolled past the 14-day boundary divided by the number of unique cookies to click the “Start free trial” button\n",
    "\n",
    "To understand the effects of the experimental treatment we need to use two evaluation metrics: gross conversion and net conversion.  Gross conversion quantifies how the experimental change affects the number of users that complete the checkout after clicking on the button.  This helps Udacity understand what portion of their users are abandoning the free trial sign-up in favor of accessing the free course materials due to the experimental treatment.  \n",
    "\n",
    "Net conversion is also a useful evaluation metric to track since it communicates the overall effect of “warning” users from clicking the free trial button to entering the first pay period.  If the portion of users increases for the first metric, but overall there is not enough of an increase, the change may not be worth launching."
   ]
  },
  {
   "cell_type": "markdown",
   "metadata": {},
   "source": [
    "### Measuring Standard Deviation"
   ]
  },
  {
   "cell_type": "code",
   "execution_count": 11,
   "metadata": {},
   "outputs": [],
   "source": [
    "import pandas as pd\n",
    "import math"
   ]
  },
  {
   "cell_type": "code",
   "execution_count": 12,
   "metadata": {},
   "outputs": [
    {
     "data": {
      "text/html": [
       "<div>\n",
       "<style scoped>\n",
       "    .dataframe tbody tr th:only-of-type {\n",
       "        vertical-align: middle;\n",
       "    }\n",
       "\n",
       "    .dataframe tbody tr th {\n",
       "        vertical-align: top;\n",
       "    }\n",
       "\n",
       "    .dataframe thead th {\n",
       "        text-align: right;\n",
       "    }\n",
       "</style>\n",
       "<table border=\"1\" class=\"dataframe\">\n",
       "  <thead>\n",
       "    <tr style=\"text-align: right;\">\n",
       "      <th></th>\n",
       "      <th>full_metric_name</th>\n",
       "      <th>value</th>\n",
       "    </tr>\n",
       "  </thead>\n",
       "  <tbody>\n",
       "    <tr>\n",
       "      <th>pageviews</th>\n",
       "      <td>Unique cookies to view course overview page pe...</td>\n",
       "      <td>40000.000000</td>\n",
       "    </tr>\n",
       "    <tr>\n",
       "      <th>clicks</th>\n",
       "      <td>Unique cookies to click \"Start free trial\" per...</td>\n",
       "      <td>3200.000000</td>\n",
       "    </tr>\n",
       "    <tr>\n",
       "      <th>enrollments</th>\n",
       "      <td>Enrollments per day:</td>\n",
       "      <td>660.000000</td>\n",
       "    </tr>\n",
       "    <tr>\n",
       "      <th>ctp</th>\n",
       "      <td>Click-through-probability on \"Start free trial\":</td>\n",
       "      <td>0.080000</td>\n",
       "    </tr>\n",
       "    <tr>\n",
       "      <th>p_enroll_click</th>\n",
       "      <td>Probability of enrolling, given click:</td>\n",
       "      <td>0.206250</td>\n",
       "    </tr>\n",
       "    <tr>\n",
       "      <th>p_pay_enroll</th>\n",
       "      <td>Probability of payment, given enroll:</td>\n",
       "      <td>0.530000</td>\n",
       "    </tr>\n",
       "    <tr>\n",
       "      <th>p_pay_click</th>\n",
       "      <td>Probability of payment, given click</td>\n",
       "      <td>0.109313</td>\n",
       "    </tr>\n",
       "  </tbody>\n",
       "</table>\n",
       "</div>"
      ],
      "text/plain": [
       "                                                 full_metric_name  \\\n",
       "pageviews       Unique cookies to view course overview page pe...   \n",
       "clicks          Unique cookies to click \"Start free trial\" per...   \n",
       "enrollments                                  Enrollments per day:   \n",
       "ctp              Click-through-probability on \"Start free trial\":   \n",
       "p_enroll_click             Probability of enrolling, given click:   \n",
       "p_pay_enroll                Probability of payment, given enroll:   \n",
       "p_pay_click                   Probability of payment, given click   \n",
       "\n",
       "                       value  \n",
       "pageviews       40000.000000  \n",
       "clicks           3200.000000  \n",
       "enrollments       660.000000  \n",
       "ctp                 0.080000  \n",
       "p_enroll_click      0.206250  \n",
       "p_pay_enroll        0.530000  \n",
       "p_pay_click         0.109313  "
      ]
     },
     "execution_count": 12,
     "metadata": {},
     "output_type": "execute_result"
    }
   ],
   "source": [
    "xlsx = pd.ExcelFile('baseline_values.xlsx')\n",
    "baseline = pd.read_excel(xlsx, 'Sheet1', header=None, names = ['full_metric_name','value'])\n",
    "baseline.set_index([['pageviews', 'clicks', 'enrollments', 'ctp', 'p_enroll_click', 'p_pay_enroll', 'p_pay_click']], inplace=True)\n",
    "baseline"
   ]
  },
  {
   "cell_type": "code",
   "execution_count": 14,
   "metadata": {},
   "outputs": [
    {
     "data": {
      "text/plain": [
       "0.125"
      ]
     },
     "execution_count": 14,
     "metadata": {},
     "output_type": "execute_result"
    }
   ],
   "source": [
    "scale_factor = 5000/baseline.loc['pageviews', 'value']\n",
    "scale_factor"
   ]
  },
  {
   "cell_type": "code",
   "execution_count": 15,
   "metadata": {},
   "outputs": [
    {
     "data": {
      "text/html": [
       "<div>\n",
       "<style scoped>\n",
       "    .dataframe tbody tr th:only-of-type {\n",
       "        vertical-align: middle;\n",
       "    }\n",
       "\n",
       "    .dataframe tbody tr th {\n",
       "        vertical-align: top;\n",
       "    }\n",
       "\n",
       "    .dataframe thead th {\n",
       "        text-align: right;\n",
       "    }\n",
       "</style>\n",
       "<table border=\"1\" class=\"dataframe\">\n",
       "  <thead>\n",
       "    <tr style=\"text-align: right;\">\n",
       "      <th></th>\n",
       "      <th>full_metric_name</th>\n",
       "      <th>value</th>\n",
       "      <th>sample</th>\n",
       "    </tr>\n",
       "  </thead>\n",
       "  <tbody>\n",
       "    <tr>\n",
       "      <th>pageviews</th>\n",
       "      <td>Unique cookies to view course overview page pe...</td>\n",
       "      <td>40000.000000</td>\n",
       "      <td>5000.000000</td>\n",
       "    </tr>\n",
       "    <tr>\n",
       "      <th>clicks</th>\n",
       "      <td>Unique cookies to click \"Start free trial\" per...</td>\n",
       "      <td>3200.000000</td>\n",
       "      <td>400.000000</td>\n",
       "    </tr>\n",
       "    <tr>\n",
       "      <th>enrollments</th>\n",
       "      <td>Enrollments per day:</td>\n",
       "      <td>660.000000</td>\n",
       "      <td>82.500000</td>\n",
       "    </tr>\n",
       "    <tr>\n",
       "      <th>ctp</th>\n",
       "      <td>Click-through-probability on \"Start free trial\":</td>\n",
       "      <td>0.080000</td>\n",
       "      <td>0.080000</td>\n",
       "    </tr>\n",
       "    <tr>\n",
       "      <th>p_enroll_click</th>\n",
       "      <td>Probability of enrolling, given click:</td>\n",
       "      <td>0.206250</td>\n",
       "      <td>0.206250</td>\n",
       "    </tr>\n",
       "    <tr>\n",
       "      <th>p_pay_enroll</th>\n",
       "      <td>Probability of payment, given enroll:</td>\n",
       "      <td>0.530000</td>\n",
       "      <td>0.530000</td>\n",
       "    </tr>\n",
       "    <tr>\n",
       "      <th>p_pay_click</th>\n",
       "      <td>Probability of payment, given click</td>\n",
       "      <td>0.109313</td>\n",
       "      <td>0.109313</td>\n",
       "    </tr>\n",
       "  </tbody>\n",
       "</table>\n",
       "</div>"
      ],
      "text/plain": [
       "                                                 full_metric_name  \\\n",
       "pageviews       Unique cookies to view course overview page pe...   \n",
       "clicks          Unique cookies to click \"Start free trial\" per...   \n",
       "enrollments                                  Enrollments per day:   \n",
       "ctp              Click-through-probability on \"Start free trial\":   \n",
       "p_enroll_click             Probability of enrolling, given click:   \n",
       "p_pay_enroll                Probability of payment, given enroll:   \n",
       "p_pay_click                   Probability of payment, given click   \n",
       "\n",
       "                       value       sample  \n",
       "pageviews       40000.000000  5000.000000  \n",
       "clicks           3200.000000   400.000000  \n",
       "enrollments       660.000000    82.500000  \n",
       "ctp                 0.080000     0.080000  \n",
       "p_enroll_click      0.206250     0.206250  \n",
       "p_pay_enroll        0.530000     0.530000  \n",
       "p_pay_click         0.109313     0.109313  "
      ]
     },
     "execution_count": 15,
     "metadata": {},
     "output_type": "execute_result"
    }
   ],
   "source": [
    "values = baseline['value'].tolist()\n",
    "\n",
    "# Scale pageviews, clicks, enrollments for the sample of 5000 pageviews\n",
    "# Leave the probabilities the same\n",
    "sample_vals = []\n",
    "for i in range(0, len(values)):\n",
    "    if i < 3:\n",
    "        sample_vals.append(values[i]*scale_factor)\n",
    "    else:\n",
    "        sample_vals.append(values[i])\n",
    "        \n",
    "baseline['sample'] = sample_vals\n",
    "baseline"
   ]
  },
  {
   "cell_type": "markdown",
   "metadata": {},
   "source": [
    "#### Gross Conversion"
   ]
  },
  {
   "cell_type": "code",
   "execution_count": 20,
   "metadata": {},
   "outputs": [
    {
     "data": {
      "text/plain": [
       "0.020230604137049392"
      ]
     },
     "execution_count": 20,
     "metadata": {},
     "output_type": "execute_result"
    }
   ],
   "source": [
    "# p = probability of enrolling given click\n",
    "p = baseline.loc['p_enroll_click', 'value']\n",
    "q = 1 - p\n",
    "\n",
    "gc_std = math.sqrt(p*q/baseline.loc['clicks', 'sample'])\n",
    "gc_std"
   ]
  },
  {
   "cell_type": "markdown",
   "metadata": {},
   "source": [
    "#### Net Conversion"
   ]
  },
  {
   "cell_type": "code",
   "execution_count": 21,
   "metadata": {},
   "outputs": [
    {
     "data": {
      "text/plain": [
       "0.01560154458248846"
      ]
     },
     "execution_count": 21,
     "metadata": {},
     "output_type": "execute_result"
    }
   ],
   "source": [
    "# p = probability of making a payment given click\n",
    "p = baseline.loc['p_pay_click', 'value']\n",
    "q = 1 - p\n",
    "\n",
    "nc_std = math.sqrt(p*q/baseline.loc['clicks', 'sample'])\n",
    "nc_std"
   ]
  },
  {
   "cell_type": "markdown",
   "metadata": {},
   "source": [
    "### Sizing"
   ]
  },
  {
   "cell_type": "markdown",
   "metadata": {},
   "source": [
    "## Experiment Analysis"
   ]
  },
  {
   "cell_type": "markdown",
   "metadata": {},
   "source": [
    "### Sanity Checks"
   ]
  }
 ],
 "metadata": {
  "kernelspec": {
   "display_name": "Python 3",
   "language": "python",
   "name": "python3"
  },
  "language_info": {
   "codemirror_mode": {
    "name": "ipython",
    "version": 3
   },
   "file_extension": ".py",
   "mimetype": "text/x-python",
   "name": "python",
   "nbconvert_exporter": "python",
   "pygments_lexer": "ipython3",
   "version": "3.6.4"
  }
 },
 "nbformat": 4,
 "nbformat_minor": 2
}
