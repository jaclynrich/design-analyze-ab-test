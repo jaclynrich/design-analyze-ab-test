{
 "cells": [
  {
   "cell_type": "markdown",
   "metadata": {},
   "source": [
    "# Designing and Analyzing the Results of an A/B Test"
   ]
  },
  {
   "cell_type": "markdown",
   "metadata": {},
   "source": [
    "## Experiment Overview"
   ]
  },
  {
   "cell_type": "markdown",
   "metadata": {},
   "source": [
    "Udacity is an online education company.  In this experiment, they tested a change to their course sign-up.  After clicking the “Start free trial” button, users were prompted to state how many hours per week they could dedicate to the course.  If a user entered fewer than five hours then they were told that they would need to devote more time than that.  In addition, Udacity proffered the information that the course materials could be accessed for free if the user was unsure of their commitment.  If the user entered more than five hours then they were directed to enter their credit card information and start their 14-day free trial."
   ]
  },
  {
   "cell_type": "markdown",
   "metadata": {},
   "source": [
    "<img src = \"course-sign-up.png\">\n",
    "> Screen capture of the experimental treatment"
   ]
  },
  {
   "cell_type": "markdown",
   "metadata": {},
   "source": [
    "In creating this change, Udacity was interested in determining if this “warning” would help users to better understand the commitment required of the course, and hence decrease future frustration.  Udacity hopes this will lead more users to finish their free trial and continue to remain enrolled into the first pay period."
   ]
  },
  {
   "cell_type": "markdown",
   "metadata": {},
   "source": [
    "## Load Data"
   ]
  },
  {
   "cell_type": "code",
   "execution_count": 44,
   "metadata": {},
   "outputs": [],
   "source": [
    "import pandas as pd\n",
    "import math"
   ]
  },
  {
   "cell_type": "code",
   "execution_count": 45,
   "metadata": {},
   "outputs": [
    {
     "data": {
      "text/html": [
       "<div>\n",
       "<style scoped>\n",
       "    .dataframe tbody tr th:only-of-type {\n",
       "        vertical-align: middle;\n",
       "    }\n",
       "\n",
       "    .dataframe tbody tr th {\n",
       "        vertical-align: top;\n",
       "    }\n",
       "\n",
       "    .dataframe thead th {\n",
       "        text-align: right;\n",
       "    }\n",
       "</style>\n",
       "<table border=\"1\" class=\"dataframe\">\n",
       "  <thead>\n",
       "    <tr style=\"text-align: right;\">\n",
       "      <th></th>\n",
       "      <th>full_metric_name</th>\n",
       "      <th>value</th>\n",
       "    </tr>\n",
       "  </thead>\n",
       "  <tbody>\n",
       "    <tr>\n",
       "      <th>pageviews</th>\n",
       "      <td>Unique cookies to view course overview page pe...</td>\n",
       "      <td>40000.000000</td>\n",
       "    </tr>\n",
       "    <tr>\n",
       "      <th>clicks</th>\n",
       "      <td>Unique cookies to click \"Start free trial\" per...</td>\n",
       "      <td>3200.000000</td>\n",
       "    </tr>\n",
       "    <tr>\n",
       "      <th>enrollments</th>\n",
       "      <td>Enrollments per day:</td>\n",
       "      <td>660.000000</td>\n",
       "    </tr>\n",
       "    <tr>\n",
       "      <th>ctp</th>\n",
       "      <td>Click-through-probability on \"Start free trial\":</td>\n",
       "      <td>0.080000</td>\n",
       "    </tr>\n",
       "    <tr>\n",
       "      <th>p_enroll_click</th>\n",
       "      <td>Probability of enrolling, given click:</td>\n",
       "      <td>0.206250</td>\n",
       "    </tr>\n",
       "    <tr>\n",
       "      <th>p_pay_enroll</th>\n",
       "      <td>Probability of payment, given enroll:</td>\n",
       "      <td>0.530000</td>\n",
       "    </tr>\n",
       "    <tr>\n",
       "      <th>p_pay_click</th>\n",
       "      <td>Probability of payment, given click</td>\n",
       "      <td>0.109313</td>\n",
       "    </tr>\n",
       "  </tbody>\n",
       "</table>\n",
       "</div>"
      ],
      "text/plain": [
       "                                                 full_metric_name  \\\n",
       "pageviews       Unique cookies to view course overview page pe...   \n",
       "clicks          Unique cookies to click \"Start free trial\" per...   \n",
       "enrollments                                  Enrollments per day:   \n",
       "ctp              Click-through-probability on \"Start free trial\":   \n",
       "p_enroll_click             Probability of enrolling, given click:   \n",
       "p_pay_enroll                Probability of payment, given enroll:   \n",
       "p_pay_click                   Probability of payment, given click   \n",
       "\n",
       "                       value  \n",
       "pageviews       40000.000000  \n",
       "clicks           3200.000000  \n",
       "enrollments       660.000000  \n",
       "ctp                 0.080000  \n",
       "p_enroll_click      0.206250  \n",
       "p_pay_enroll        0.530000  \n",
       "p_pay_click         0.109313  "
      ]
     },
     "execution_count": 45,
     "metadata": {},
     "output_type": "execute_result"
    }
   ],
   "source": [
    "# Baseline data\n",
    "xlsx = pd.ExcelFile('baseline_values.xlsx')\n",
    "baseline = pd.read_excel(xlsx, 'Sheet1', header=None, names = ['full_metric_name','value'])\n",
    "baseline.set_index([['pageviews', 'clicks', 'enrollments', 'ctp', 'p_enroll_click', 'p_pay_enroll', 'p_pay_click']], inplace=True)\n",
    "baseline"
   ]
  },
  {
   "cell_type": "code",
   "execution_count": 46,
   "metadata": {},
   "outputs": [
    {
     "data": {
      "text/html": [
       "<div>\n",
       "<style scoped>\n",
       "    .dataframe tbody tr th:only-of-type {\n",
       "        vertical-align: middle;\n",
       "    }\n",
       "\n",
       "    .dataframe tbody tr th {\n",
       "        vertical-align: top;\n",
       "    }\n",
       "\n",
       "    .dataframe thead th {\n",
       "        text-align: right;\n",
       "    }\n",
       "</style>\n",
       "<table border=\"1\" class=\"dataframe\">\n",
       "  <thead>\n",
       "    <tr style=\"text-align: right;\">\n",
       "      <th></th>\n",
       "      <th>Date</th>\n",
       "      <th>Pageviews</th>\n",
       "      <th>Clicks</th>\n",
       "      <th>Enrollments</th>\n",
       "      <th>Payments</th>\n",
       "    </tr>\n",
       "  </thead>\n",
       "  <tbody>\n",
       "    <tr>\n",
       "      <th>0</th>\n",
       "      <td>Sat, Oct 11</td>\n",
       "      <td>7723</td>\n",
       "      <td>687</td>\n",
       "      <td>134.0</td>\n",
       "      <td>70.0</td>\n",
       "    </tr>\n",
       "    <tr>\n",
       "      <th>1</th>\n",
       "      <td>Sun, Oct 12</td>\n",
       "      <td>9102</td>\n",
       "      <td>779</td>\n",
       "      <td>147.0</td>\n",
       "      <td>70.0</td>\n",
       "    </tr>\n",
       "    <tr>\n",
       "      <th>2</th>\n",
       "      <td>Mon, Oct 13</td>\n",
       "      <td>10511</td>\n",
       "      <td>909</td>\n",
       "      <td>167.0</td>\n",
       "      <td>95.0</td>\n",
       "    </tr>\n",
       "    <tr>\n",
       "      <th>3</th>\n",
       "      <td>Tue, Oct 14</td>\n",
       "      <td>9871</td>\n",
       "      <td>836</td>\n",
       "      <td>156.0</td>\n",
       "      <td>105.0</td>\n",
       "    </tr>\n",
       "    <tr>\n",
       "      <th>4</th>\n",
       "      <td>Wed, Oct 15</td>\n",
       "      <td>10014</td>\n",
       "      <td>837</td>\n",
       "      <td>163.0</td>\n",
       "      <td>64.0</td>\n",
       "    </tr>\n",
       "    <tr>\n",
       "      <th>5</th>\n",
       "      <td>Thu, Oct 16</td>\n",
       "      <td>9670</td>\n",
       "      <td>823</td>\n",
       "      <td>138.0</td>\n",
       "      <td>82.0</td>\n",
       "    </tr>\n",
       "    <tr>\n",
       "      <th>6</th>\n",
       "      <td>Fri, Oct 17</td>\n",
       "      <td>9008</td>\n",
       "      <td>748</td>\n",
       "      <td>146.0</td>\n",
       "      <td>76.0</td>\n",
       "    </tr>\n",
       "    <tr>\n",
       "      <th>7</th>\n",
       "      <td>Sat, Oct 18</td>\n",
       "      <td>7434</td>\n",
       "      <td>632</td>\n",
       "      <td>110.0</td>\n",
       "      <td>70.0</td>\n",
       "    </tr>\n",
       "    <tr>\n",
       "      <th>8</th>\n",
       "      <td>Sun, Oct 19</td>\n",
       "      <td>8459</td>\n",
       "      <td>691</td>\n",
       "      <td>131.0</td>\n",
       "      <td>60.0</td>\n",
       "    </tr>\n",
       "    <tr>\n",
       "      <th>9</th>\n",
       "      <td>Mon, Oct 20</td>\n",
       "      <td>10667</td>\n",
       "      <td>861</td>\n",
       "      <td>165.0</td>\n",
       "      <td>97.0</td>\n",
       "    </tr>\n",
       "    <tr>\n",
       "      <th>10</th>\n",
       "      <td>Tue, Oct 21</td>\n",
       "      <td>10660</td>\n",
       "      <td>867</td>\n",
       "      <td>196.0</td>\n",
       "      <td>105.0</td>\n",
       "    </tr>\n",
       "    <tr>\n",
       "      <th>11</th>\n",
       "      <td>Wed, Oct 22</td>\n",
       "      <td>9947</td>\n",
       "      <td>838</td>\n",
       "      <td>162.0</td>\n",
       "      <td>92.0</td>\n",
       "    </tr>\n",
       "    <tr>\n",
       "      <th>12</th>\n",
       "      <td>Thu, Oct 23</td>\n",
       "      <td>8324</td>\n",
       "      <td>665</td>\n",
       "      <td>127.0</td>\n",
       "      <td>56.0</td>\n",
       "    </tr>\n",
       "    <tr>\n",
       "      <th>13</th>\n",
       "      <td>Fri, Oct 24</td>\n",
       "      <td>9434</td>\n",
       "      <td>673</td>\n",
       "      <td>220.0</td>\n",
       "      <td>122.0</td>\n",
       "    </tr>\n",
       "    <tr>\n",
       "      <th>14</th>\n",
       "      <td>Sat, Oct 25</td>\n",
       "      <td>8687</td>\n",
       "      <td>691</td>\n",
       "      <td>176.0</td>\n",
       "      <td>128.0</td>\n",
       "    </tr>\n",
       "    <tr>\n",
       "      <th>15</th>\n",
       "      <td>Sun, Oct 26</td>\n",
       "      <td>8896</td>\n",
       "      <td>708</td>\n",
       "      <td>161.0</td>\n",
       "      <td>104.0</td>\n",
       "    </tr>\n",
       "    <tr>\n",
       "      <th>16</th>\n",
       "      <td>Mon, Oct 27</td>\n",
       "      <td>9535</td>\n",
       "      <td>759</td>\n",
       "      <td>233.0</td>\n",
       "      <td>124.0</td>\n",
       "    </tr>\n",
       "    <tr>\n",
       "      <th>17</th>\n",
       "      <td>Tue, Oct 28</td>\n",
       "      <td>9363</td>\n",
       "      <td>736</td>\n",
       "      <td>154.0</td>\n",
       "      <td>91.0</td>\n",
       "    </tr>\n",
       "    <tr>\n",
       "      <th>18</th>\n",
       "      <td>Wed, Oct 29</td>\n",
       "      <td>9327</td>\n",
       "      <td>739</td>\n",
       "      <td>196.0</td>\n",
       "      <td>86.0</td>\n",
       "    </tr>\n",
       "    <tr>\n",
       "      <th>19</th>\n",
       "      <td>Thu, Oct 30</td>\n",
       "      <td>9345</td>\n",
       "      <td>734</td>\n",
       "      <td>167.0</td>\n",
       "      <td>75.0</td>\n",
       "    </tr>\n",
       "    <tr>\n",
       "      <th>20</th>\n",
       "      <td>Fri, Oct 31</td>\n",
       "      <td>8890</td>\n",
       "      <td>706</td>\n",
       "      <td>174.0</td>\n",
       "      <td>101.0</td>\n",
       "    </tr>\n",
       "    <tr>\n",
       "      <th>21</th>\n",
       "      <td>Sat, Nov 1</td>\n",
       "      <td>8460</td>\n",
       "      <td>681</td>\n",
       "      <td>156.0</td>\n",
       "      <td>93.0</td>\n",
       "    </tr>\n",
       "    <tr>\n",
       "      <th>22</th>\n",
       "      <td>Sun, Nov 2</td>\n",
       "      <td>8836</td>\n",
       "      <td>693</td>\n",
       "      <td>206.0</td>\n",
       "      <td>67.0</td>\n",
       "    </tr>\n",
       "    <tr>\n",
       "      <th>23</th>\n",
       "      <td>Mon, Nov 3</td>\n",
       "      <td>9437</td>\n",
       "      <td>788</td>\n",
       "      <td>NaN</td>\n",
       "      <td>NaN</td>\n",
       "    </tr>\n",
       "    <tr>\n",
       "      <th>24</th>\n",
       "      <td>Tue, Nov 4</td>\n",
       "      <td>9420</td>\n",
       "      <td>781</td>\n",
       "      <td>NaN</td>\n",
       "      <td>NaN</td>\n",
       "    </tr>\n",
       "    <tr>\n",
       "      <th>25</th>\n",
       "      <td>Wed, Nov 5</td>\n",
       "      <td>9570</td>\n",
       "      <td>805</td>\n",
       "      <td>NaN</td>\n",
       "      <td>NaN</td>\n",
       "    </tr>\n",
       "    <tr>\n",
       "      <th>26</th>\n",
       "      <td>Thu, Nov 6</td>\n",
       "      <td>9921</td>\n",
       "      <td>830</td>\n",
       "      <td>NaN</td>\n",
       "      <td>NaN</td>\n",
       "    </tr>\n",
       "    <tr>\n",
       "      <th>27</th>\n",
       "      <td>Fri, Nov 7</td>\n",
       "      <td>9424</td>\n",
       "      <td>781</td>\n",
       "      <td>NaN</td>\n",
       "      <td>NaN</td>\n",
       "    </tr>\n",
       "    <tr>\n",
       "      <th>28</th>\n",
       "      <td>Sat, Nov 8</td>\n",
       "      <td>9010</td>\n",
       "      <td>756</td>\n",
       "      <td>NaN</td>\n",
       "      <td>NaN</td>\n",
       "    </tr>\n",
       "    <tr>\n",
       "      <th>29</th>\n",
       "      <td>Sun, Nov 9</td>\n",
       "      <td>9656</td>\n",
       "      <td>825</td>\n",
       "      <td>NaN</td>\n",
       "      <td>NaN</td>\n",
       "    </tr>\n",
       "    <tr>\n",
       "      <th>30</th>\n",
       "      <td>Mon, Nov 10</td>\n",
       "      <td>10419</td>\n",
       "      <td>874</td>\n",
       "      <td>NaN</td>\n",
       "      <td>NaN</td>\n",
       "    </tr>\n",
       "    <tr>\n",
       "      <th>31</th>\n",
       "      <td>Tue, Nov 11</td>\n",
       "      <td>9880</td>\n",
       "      <td>830</td>\n",
       "      <td>NaN</td>\n",
       "      <td>NaN</td>\n",
       "    </tr>\n",
       "    <tr>\n",
       "      <th>32</th>\n",
       "      <td>Wed, Nov 12</td>\n",
       "      <td>10134</td>\n",
       "      <td>801</td>\n",
       "      <td>NaN</td>\n",
       "      <td>NaN</td>\n",
       "    </tr>\n",
       "    <tr>\n",
       "      <th>33</th>\n",
       "      <td>Thu, Nov 13</td>\n",
       "      <td>9717</td>\n",
       "      <td>814</td>\n",
       "      <td>NaN</td>\n",
       "      <td>NaN</td>\n",
       "    </tr>\n",
       "    <tr>\n",
       "      <th>34</th>\n",
       "      <td>Fri, Nov 14</td>\n",
       "      <td>9192</td>\n",
       "      <td>735</td>\n",
       "      <td>NaN</td>\n",
       "      <td>NaN</td>\n",
       "    </tr>\n",
       "    <tr>\n",
       "      <th>35</th>\n",
       "      <td>Sat, Nov 15</td>\n",
       "      <td>8630</td>\n",
       "      <td>743</td>\n",
       "      <td>NaN</td>\n",
       "      <td>NaN</td>\n",
       "    </tr>\n",
       "    <tr>\n",
       "      <th>36</th>\n",
       "      <td>Sun, Nov 16</td>\n",
       "      <td>8970</td>\n",
       "      <td>722</td>\n",
       "      <td>NaN</td>\n",
       "      <td>NaN</td>\n",
       "    </tr>\n",
       "  </tbody>\n",
       "</table>\n",
       "</div>"
      ],
      "text/plain": [
       "           Date  Pageviews  Clicks  Enrollments  Payments\n",
       "0   Sat, Oct 11       7723     687        134.0      70.0\n",
       "1   Sun, Oct 12       9102     779        147.0      70.0\n",
       "2   Mon, Oct 13      10511     909        167.0      95.0\n",
       "3   Tue, Oct 14       9871     836        156.0     105.0\n",
       "4   Wed, Oct 15      10014     837        163.0      64.0\n",
       "5   Thu, Oct 16       9670     823        138.0      82.0\n",
       "6   Fri, Oct 17       9008     748        146.0      76.0\n",
       "7   Sat, Oct 18       7434     632        110.0      70.0\n",
       "8   Sun, Oct 19       8459     691        131.0      60.0\n",
       "9   Mon, Oct 20      10667     861        165.0      97.0\n",
       "10  Tue, Oct 21      10660     867        196.0     105.0\n",
       "11  Wed, Oct 22       9947     838        162.0      92.0\n",
       "12  Thu, Oct 23       8324     665        127.0      56.0\n",
       "13  Fri, Oct 24       9434     673        220.0     122.0\n",
       "14  Sat, Oct 25       8687     691        176.0     128.0\n",
       "15  Sun, Oct 26       8896     708        161.0     104.0\n",
       "16  Mon, Oct 27       9535     759        233.0     124.0\n",
       "17  Tue, Oct 28       9363     736        154.0      91.0\n",
       "18  Wed, Oct 29       9327     739        196.0      86.0\n",
       "19  Thu, Oct 30       9345     734        167.0      75.0\n",
       "20  Fri, Oct 31       8890     706        174.0     101.0\n",
       "21   Sat, Nov 1       8460     681        156.0      93.0\n",
       "22   Sun, Nov 2       8836     693        206.0      67.0\n",
       "23   Mon, Nov 3       9437     788          NaN       NaN\n",
       "24   Tue, Nov 4       9420     781          NaN       NaN\n",
       "25   Wed, Nov 5       9570     805          NaN       NaN\n",
       "26   Thu, Nov 6       9921     830          NaN       NaN\n",
       "27   Fri, Nov 7       9424     781          NaN       NaN\n",
       "28   Sat, Nov 8       9010     756          NaN       NaN\n",
       "29   Sun, Nov 9       9656     825          NaN       NaN\n",
       "30  Mon, Nov 10      10419     874          NaN       NaN\n",
       "31  Tue, Nov 11       9880     830          NaN       NaN\n",
       "32  Wed, Nov 12      10134     801          NaN       NaN\n",
       "33  Thu, Nov 13       9717     814          NaN       NaN\n",
       "34  Fri, Nov 14       9192     735          NaN       NaN\n",
       "35  Sat, Nov 15       8630     743          NaN       NaN\n",
       "36  Sun, Nov 16       8970     722          NaN       NaN"
      ]
     },
     "execution_count": 46,
     "metadata": {},
     "output_type": "execute_result"
    }
   ],
   "source": [
    "# Experiment data - control group\n",
    "xlsx = pd.ExcelFile('experiment_results.xlsx')\n",
    "res_cont = pd.read_excel(xlsx, 'Control')\n",
    "res_cont"
   ]
  },
  {
   "cell_type": "code",
   "execution_count": 47,
   "metadata": {},
   "outputs": [
    {
     "data": {
      "text/html": [
       "<div>\n",
       "<style scoped>\n",
       "    .dataframe tbody tr th:only-of-type {\n",
       "        vertical-align: middle;\n",
       "    }\n",
       "\n",
       "    .dataframe tbody tr th {\n",
       "        vertical-align: top;\n",
       "    }\n",
       "\n",
       "    .dataframe thead th {\n",
       "        text-align: right;\n",
       "    }\n",
       "</style>\n",
       "<table border=\"1\" class=\"dataframe\">\n",
       "  <thead>\n",
       "    <tr style=\"text-align: right;\">\n",
       "      <th></th>\n",
       "      <th>Date</th>\n",
       "      <th>Pageviews</th>\n",
       "      <th>Clicks</th>\n",
       "      <th>Enrollments</th>\n",
       "      <th>Payments</th>\n",
       "    </tr>\n",
       "  </thead>\n",
       "  <tbody>\n",
       "    <tr>\n",
       "      <th>0</th>\n",
       "      <td>Sat, Oct 11</td>\n",
       "      <td>7716</td>\n",
       "      <td>686</td>\n",
       "      <td>105.0</td>\n",
       "      <td>34.0</td>\n",
       "    </tr>\n",
       "    <tr>\n",
       "      <th>1</th>\n",
       "      <td>Sun, Oct 12</td>\n",
       "      <td>9288</td>\n",
       "      <td>785</td>\n",
       "      <td>116.0</td>\n",
       "      <td>91.0</td>\n",
       "    </tr>\n",
       "    <tr>\n",
       "      <th>2</th>\n",
       "      <td>Mon, Oct 13</td>\n",
       "      <td>10480</td>\n",
       "      <td>884</td>\n",
       "      <td>145.0</td>\n",
       "      <td>79.0</td>\n",
       "    </tr>\n",
       "    <tr>\n",
       "      <th>3</th>\n",
       "      <td>Tue, Oct 14</td>\n",
       "      <td>9867</td>\n",
       "      <td>827</td>\n",
       "      <td>138.0</td>\n",
       "      <td>92.0</td>\n",
       "    </tr>\n",
       "    <tr>\n",
       "      <th>4</th>\n",
       "      <td>Wed, Oct 15</td>\n",
       "      <td>9793</td>\n",
       "      <td>832</td>\n",
       "      <td>140.0</td>\n",
       "      <td>94.0</td>\n",
       "    </tr>\n",
       "    <tr>\n",
       "      <th>5</th>\n",
       "      <td>Thu, Oct 16</td>\n",
       "      <td>9500</td>\n",
       "      <td>788</td>\n",
       "      <td>129.0</td>\n",
       "      <td>61.0</td>\n",
       "    </tr>\n",
       "    <tr>\n",
       "      <th>6</th>\n",
       "      <td>Fri, Oct 17</td>\n",
       "      <td>9088</td>\n",
       "      <td>780</td>\n",
       "      <td>127.0</td>\n",
       "      <td>44.0</td>\n",
       "    </tr>\n",
       "    <tr>\n",
       "      <th>7</th>\n",
       "      <td>Sat, Oct 18</td>\n",
       "      <td>7664</td>\n",
       "      <td>652</td>\n",
       "      <td>94.0</td>\n",
       "      <td>62.0</td>\n",
       "    </tr>\n",
       "    <tr>\n",
       "      <th>8</th>\n",
       "      <td>Sun, Oct 19</td>\n",
       "      <td>8434</td>\n",
       "      <td>697</td>\n",
       "      <td>120.0</td>\n",
       "      <td>77.0</td>\n",
       "    </tr>\n",
       "    <tr>\n",
       "      <th>9</th>\n",
       "      <td>Mon, Oct 20</td>\n",
       "      <td>10496</td>\n",
       "      <td>860</td>\n",
       "      <td>153.0</td>\n",
       "      <td>98.0</td>\n",
       "    </tr>\n",
       "    <tr>\n",
       "      <th>10</th>\n",
       "      <td>Tue, Oct 21</td>\n",
       "      <td>10551</td>\n",
       "      <td>864</td>\n",
       "      <td>143.0</td>\n",
       "      <td>71.0</td>\n",
       "    </tr>\n",
       "    <tr>\n",
       "      <th>11</th>\n",
       "      <td>Wed, Oct 22</td>\n",
       "      <td>9737</td>\n",
       "      <td>801</td>\n",
       "      <td>128.0</td>\n",
       "      <td>70.0</td>\n",
       "    </tr>\n",
       "    <tr>\n",
       "      <th>12</th>\n",
       "      <td>Thu, Oct 23</td>\n",
       "      <td>8176</td>\n",
       "      <td>642</td>\n",
       "      <td>122.0</td>\n",
       "      <td>68.0</td>\n",
       "    </tr>\n",
       "    <tr>\n",
       "      <th>13</th>\n",
       "      <td>Fri, Oct 24</td>\n",
       "      <td>9402</td>\n",
       "      <td>697</td>\n",
       "      <td>194.0</td>\n",
       "      <td>94.0</td>\n",
       "    </tr>\n",
       "    <tr>\n",
       "      <th>14</th>\n",
       "      <td>Sat, Oct 25</td>\n",
       "      <td>8669</td>\n",
       "      <td>669</td>\n",
       "      <td>127.0</td>\n",
       "      <td>81.0</td>\n",
       "    </tr>\n",
       "    <tr>\n",
       "      <th>15</th>\n",
       "      <td>Sun, Oct 26</td>\n",
       "      <td>8881</td>\n",
       "      <td>693</td>\n",
       "      <td>153.0</td>\n",
       "      <td>101.0</td>\n",
       "    </tr>\n",
       "    <tr>\n",
       "      <th>16</th>\n",
       "      <td>Mon, Oct 27</td>\n",
       "      <td>9655</td>\n",
       "      <td>771</td>\n",
       "      <td>213.0</td>\n",
       "      <td>119.0</td>\n",
       "    </tr>\n",
       "    <tr>\n",
       "      <th>17</th>\n",
       "      <td>Tue, Oct 28</td>\n",
       "      <td>9396</td>\n",
       "      <td>736</td>\n",
       "      <td>162.0</td>\n",
       "      <td>120.0</td>\n",
       "    </tr>\n",
       "    <tr>\n",
       "      <th>18</th>\n",
       "      <td>Wed, Oct 29</td>\n",
       "      <td>9262</td>\n",
       "      <td>727</td>\n",
       "      <td>201.0</td>\n",
       "      <td>96.0</td>\n",
       "    </tr>\n",
       "    <tr>\n",
       "      <th>19</th>\n",
       "      <td>Thu, Oct 30</td>\n",
       "      <td>9308</td>\n",
       "      <td>728</td>\n",
       "      <td>207.0</td>\n",
       "      <td>67.0</td>\n",
       "    </tr>\n",
       "    <tr>\n",
       "      <th>20</th>\n",
       "      <td>Fri, Oct 31</td>\n",
       "      <td>8715</td>\n",
       "      <td>722</td>\n",
       "      <td>182.0</td>\n",
       "      <td>123.0</td>\n",
       "    </tr>\n",
       "    <tr>\n",
       "      <th>21</th>\n",
       "      <td>Sat, Nov 1</td>\n",
       "      <td>8448</td>\n",
       "      <td>695</td>\n",
       "      <td>142.0</td>\n",
       "      <td>100.0</td>\n",
       "    </tr>\n",
       "    <tr>\n",
       "      <th>22</th>\n",
       "      <td>Sun, Nov 2</td>\n",
       "      <td>8836</td>\n",
       "      <td>724</td>\n",
       "      <td>182.0</td>\n",
       "      <td>103.0</td>\n",
       "    </tr>\n",
       "    <tr>\n",
       "      <th>23</th>\n",
       "      <td>Mon, Nov 3</td>\n",
       "      <td>9359</td>\n",
       "      <td>789</td>\n",
       "      <td>NaN</td>\n",
       "      <td>NaN</td>\n",
       "    </tr>\n",
       "    <tr>\n",
       "      <th>24</th>\n",
       "      <td>Tue, Nov 4</td>\n",
       "      <td>9427</td>\n",
       "      <td>743</td>\n",
       "      <td>NaN</td>\n",
       "      <td>NaN</td>\n",
       "    </tr>\n",
       "    <tr>\n",
       "      <th>25</th>\n",
       "      <td>Wed, Nov 5</td>\n",
       "      <td>9633</td>\n",
       "      <td>808</td>\n",
       "      <td>NaN</td>\n",
       "      <td>NaN</td>\n",
       "    </tr>\n",
       "    <tr>\n",
       "      <th>26</th>\n",
       "      <td>Thu, Nov 6</td>\n",
       "      <td>9842</td>\n",
       "      <td>831</td>\n",
       "      <td>NaN</td>\n",
       "      <td>NaN</td>\n",
       "    </tr>\n",
       "    <tr>\n",
       "      <th>27</th>\n",
       "      <td>Fri, Nov 7</td>\n",
       "      <td>9272</td>\n",
       "      <td>767</td>\n",
       "      <td>NaN</td>\n",
       "      <td>NaN</td>\n",
       "    </tr>\n",
       "    <tr>\n",
       "      <th>28</th>\n",
       "      <td>Sat, Nov 8</td>\n",
       "      <td>8969</td>\n",
       "      <td>760</td>\n",
       "      <td>NaN</td>\n",
       "      <td>NaN</td>\n",
       "    </tr>\n",
       "    <tr>\n",
       "      <th>29</th>\n",
       "      <td>Sun, Nov 9</td>\n",
       "      <td>9697</td>\n",
       "      <td>850</td>\n",
       "      <td>NaN</td>\n",
       "      <td>NaN</td>\n",
       "    </tr>\n",
       "    <tr>\n",
       "      <th>30</th>\n",
       "      <td>Mon, Nov 10</td>\n",
       "      <td>10445</td>\n",
       "      <td>851</td>\n",
       "      <td>NaN</td>\n",
       "      <td>NaN</td>\n",
       "    </tr>\n",
       "    <tr>\n",
       "      <th>31</th>\n",
       "      <td>Tue, Nov 11</td>\n",
       "      <td>9931</td>\n",
       "      <td>831</td>\n",
       "      <td>NaN</td>\n",
       "      <td>NaN</td>\n",
       "    </tr>\n",
       "    <tr>\n",
       "      <th>32</th>\n",
       "      <td>Wed, Nov 12</td>\n",
       "      <td>10042</td>\n",
       "      <td>802</td>\n",
       "      <td>NaN</td>\n",
       "      <td>NaN</td>\n",
       "    </tr>\n",
       "    <tr>\n",
       "      <th>33</th>\n",
       "      <td>Thu, Nov 13</td>\n",
       "      <td>9721</td>\n",
       "      <td>829</td>\n",
       "      <td>NaN</td>\n",
       "      <td>NaN</td>\n",
       "    </tr>\n",
       "    <tr>\n",
       "      <th>34</th>\n",
       "      <td>Fri, Nov 14</td>\n",
       "      <td>9304</td>\n",
       "      <td>770</td>\n",
       "      <td>NaN</td>\n",
       "      <td>NaN</td>\n",
       "    </tr>\n",
       "    <tr>\n",
       "      <th>35</th>\n",
       "      <td>Sat, Nov 15</td>\n",
       "      <td>8668</td>\n",
       "      <td>724</td>\n",
       "      <td>NaN</td>\n",
       "      <td>NaN</td>\n",
       "    </tr>\n",
       "    <tr>\n",
       "      <th>36</th>\n",
       "      <td>Sun, Nov 16</td>\n",
       "      <td>8988</td>\n",
       "      <td>710</td>\n",
       "      <td>NaN</td>\n",
       "      <td>NaN</td>\n",
       "    </tr>\n",
       "  </tbody>\n",
       "</table>\n",
       "</div>"
      ],
      "text/plain": [
       "           Date  Pageviews  Clicks  Enrollments  Payments\n",
       "0   Sat, Oct 11       7716     686        105.0      34.0\n",
       "1   Sun, Oct 12       9288     785        116.0      91.0\n",
       "2   Mon, Oct 13      10480     884        145.0      79.0\n",
       "3   Tue, Oct 14       9867     827        138.0      92.0\n",
       "4   Wed, Oct 15       9793     832        140.0      94.0\n",
       "5   Thu, Oct 16       9500     788        129.0      61.0\n",
       "6   Fri, Oct 17       9088     780        127.0      44.0\n",
       "7   Sat, Oct 18       7664     652         94.0      62.0\n",
       "8   Sun, Oct 19       8434     697        120.0      77.0\n",
       "9   Mon, Oct 20      10496     860        153.0      98.0\n",
       "10  Tue, Oct 21      10551     864        143.0      71.0\n",
       "11  Wed, Oct 22       9737     801        128.0      70.0\n",
       "12  Thu, Oct 23       8176     642        122.0      68.0\n",
       "13  Fri, Oct 24       9402     697        194.0      94.0\n",
       "14  Sat, Oct 25       8669     669        127.0      81.0\n",
       "15  Sun, Oct 26       8881     693        153.0     101.0\n",
       "16  Mon, Oct 27       9655     771        213.0     119.0\n",
       "17  Tue, Oct 28       9396     736        162.0     120.0\n",
       "18  Wed, Oct 29       9262     727        201.0      96.0\n",
       "19  Thu, Oct 30       9308     728        207.0      67.0\n",
       "20  Fri, Oct 31       8715     722        182.0     123.0\n",
       "21   Sat, Nov 1       8448     695        142.0     100.0\n",
       "22   Sun, Nov 2       8836     724        182.0     103.0\n",
       "23   Mon, Nov 3       9359     789          NaN       NaN\n",
       "24   Tue, Nov 4       9427     743          NaN       NaN\n",
       "25   Wed, Nov 5       9633     808          NaN       NaN\n",
       "26   Thu, Nov 6       9842     831          NaN       NaN\n",
       "27   Fri, Nov 7       9272     767          NaN       NaN\n",
       "28   Sat, Nov 8       8969     760          NaN       NaN\n",
       "29   Sun, Nov 9       9697     850          NaN       NaN\n",
       "30  Mon, Nov 10      10445     851          NaN       NaN\n",
       "31  Tue, Nov 11       9931     831          NaN       NaN\n",
       "32  Wed, Nov 12      10042     802          NaN       NaN\n",
       "33  Thu, Nov 13       9721     829          NaN       NaN\n",
       "34  Fri, Nov 14       9304     770          NaN       NaN\n",
       "35  Sat, Nov 15       8668     724          NaN       NaN\n",
       "36  Sun, Nov 16       8988     710          NaN       NaN"
      ]
     },
     "execution_count": 47,
     "metadata": {},
     "output_type": "execute_result"
    }
   ],
   "source": [
    "# Experiment data - experiment group\n",
    "res_exp = pd.read_excel(xlsx, 'Experiment')\n",
    "res_exp"
   ]
  },
  {
   "cell_type": "markdown",
   "metadata": {},
   "source": [
    "## Experiment Design"
   ]
  },
  {
   "cell_type": "markdown",
   "metadata": {},
   "source": [
    "### Metric Choices"
   ]
  },
  {
   "cell_type": "markdown",
   "metadata": {},
   "source": [
    "Invariant Metrics:\n",
    "* Number of unique cookies to view the course overview page\n",
    "* Number of unique clicks to click the “Start free trial” button\n",
    "* Click-through-probability of clicking “Start free trial” button from the course overview page\n",
    "\n",
    "Evaluation Metrics:\n",
    "* Gross conversion: number of user-ids to complete checkout divided by the number of unique cookies to click the “Start free trial” button\n",
    "* Net conversion: number of user-ids to remain enrolled past the 14-day boundary divided by the number of unique cookies to click the “Start free trial” button\n"
   ]
  },
  {
   "cell_type": "markdown",
   "metadata": {},
   "source": [
    "#### Invariant Metrics"
   ]
  },
  {
   "cell_type": "markdown",
   "metadata": {},
   "source": [
    "Invariant metrics shouldn’t change across the experiment and control groups.  We use invariant metrics to size our experiment and ensure that our experiment is run properly.  \n",
    "\n",
    "I chose the following as invariant metrics:\n",
    "* Number of unique cookies to view the course overview page\n",
    "* Number of unique clicks to click the “Start free trial” button\n",
    "* Click-through-probability of clicking “Start free trial” button from the course overview page\n",
    "\n",
    "Since we are not making any changes before the user presses the button, we would want the same number of clicks to the button and the same click-through-probability for it, as well as the same number of cookies (as a proxy for users) to visit the course overview page in both the experiment and control groups.  A metric I would not use for invariant checking is the number of users who enrolled in the free trial.  Our experiment may, and is meant to, affect how many users decide to enroll by possibly convincing the less fervent to access free course materials in lieu of starting the free trial.\n",
    "\n",
    "These metrics were chosen as a way to make sure our two groups are sized similarly and to provide sanity checks.  The experiment does not affect any part of the user experience before the pressing of the “Start free trial” button, so if there are differences between the experimental and control groups for these metrics there is an error with the setup of the experiment, event-capturing, etc."
   ]
  },
  {
   "cell_type": "markdown",
   "metadata": {},
   "source": [
    "#### Evaluation Metrics"
   ]
  },
  {
   "cell_type": "markdown",
   "metadata": {},
   "source": [
    "Evaluation metrics are used to compare the experiment and control groups after the treatment has been applied; these metrics are used to determine if the experiment was a success.\n",
    "\n",
    "I chose the following as evaluation metrics:\n",
    "* Gross conversion: number of user-ids to complete checkout divided by the number of unique cookies to click the “Start free trial” button\n",
    "* Net conversion: number of user-ids to remain enrolled past the 14-day boundary divided by the number of unique cookies to click the “Start free trial” button\n",
    "\n",
    "To understand the effects of the experimental treatment we need to use two evaluation metrics: gross conversion and net conversion.  Gross conversion quantifies how the experimental change affects the number of users that complete the checkout after clicking on the button.  This helps Udacity understand what portion of their users are abandoning the free trial sign-up in favor of accessing the free course materials due to the experimental treatment.  \n",
    "\n",
    "Net conversion is also a useful evaluation metric to track since it communicates the overall effect of “warning” users from clicking the free trial button to entering the first pay period.  If the portion of users increases for the first metric, but overall there is not enough of an increase, the change may not be worth launching.\n",
    "\n",
    "The following metric was not chosen:\n",
    "* Retention: number of user-ids to remain enrolled past the 14-day boundary (to make at least one payment) divided by the number of user-ids to complete checkout (enter their credit card details to start the free trial)\n",
    "\n",
    "Retention measures the effect of our decision on the users that still choose to start a free trial after being advised about the commitment necessary for the course; retention can help us understand if a greater proportion of users in the experimental group that start a free trial are less frustrated, and more likely to study past the free 14 days, as compared with those in the control group.  This would be a valuable metric, but since the unit of analysis for this variable is different from the unit of diversion, the number of pageviews necessary to track this metric is far too large to be feasible.  This is discussed in more depth in the section concerned with experiment sizing.\n",
    "\n",
    "A minimum practical change of 0.01 for gross conversion and 0.0075 for net conversion would be required in order to launch the change, as stated by Udacity."
   ]
  },
  {
   "cell_type": "markdown",
   "metadata": {},
   "source": [
    "### Measuring Standard Deviation"
   ]
  },
  {
   "cell_type": "code",
   "execution_count": 14,
   "metadata": {},
   "outputs": [
    {
     "data": {
      "text/plain": [
       "0.125"
      ]
     },
     "execution_count": 14,
     "metadata": {},
     "output_type": "execute_result"
    }
   ],
   "source": [
    "scale_factor = 5000/baseline.loc['pageviews', 'value']\n",
    "scale_factor"
   ]
  },
  {
   "cell_type": "code",
   "execution_count": 15,
   "metadata": {},
   "outputs": [
    {
     "data": {
      "text/html": [
       "<div>\n",
       "<style scoped>\n",
       "    .dataframe tbody tr th:only-of-type {\n",
       "        vertical-align: middle;\n",
       "    }\n",
       "\n",
       "    .dataframe tbody tr th {\n",
       "        vertical-align: top;\n",
       "    }\n",
       "\n",
       "    .dataframe thead th {\n",
       "        text-align: right;\n",
       "    }\n",
       "</style>\n",
       "<table border=\"1\" class=\"dataframe\">\n",
       "  <thead>\n",
       "    <tr style=\"text-align: right;\">\n",
       "      <th></th>\n",
       "      <th>full_metric_name</th>\n",
       "      <th>value</th>\n",
       "      <th>sample</th>\n",
       "    </tr>\n",
       "  </thead>\n",
       "  <tbody>\n",
       "    <tr>\n",
       "      <th>pageviews</th>\n",
       "      <td>Unique cookies to view course overview page pe...</td>\n",
       "      <td>40000.000000</td>\n",
       "      <td>5000.000000</td>\n",
       "    </tr>\n",
       "    <tr>\n",
       "      <th>clicks</th>\n",
       "      <td>Unique cookies to click \"Start free trial\" per...</td>\n",
       "      <td>3200.000000</td>\n",
       "      <td>400.000000</td>\n",
       "    </tr>\n",
       "    <tr>\n",
       "      <th>enrollments</th>\n",
       "      <td>Enrollments per day:</td>\n",
       "      <td>660.000000</td>\n",
       "      <td>82.500000</td>\n",
       "    </tr>\n",
       "    <tr>\n",
       "      <th>ctp</th>\n",
       "      <td>Click-through-probability on \"Start free trial\":</td>\n",
       "      <td>0.080000</td>\n",
       "      <td>0.080000</td>\n",
       "    </tr>\n",
       "    <tr>\n",
       "      <th>p_enroll_click</th>\n",
       "      <td>Probability of enrolling, given click:</td>\n",
       "      <td>0.206250</td>\n",
       "      <td>0.206250</td>\n",
       "    </tr>\n",
       "    <tr>\n",
       "      <th>p_pay_enroll</th>\n",
       "      <td>Probability of payment, given enroll:</td>\n",
       "      <td>0.530000</td>\n",
       "      <td>0.530000</td>\n",
       "    </tr>\n",
       "    <tr>\n",
       "      <th>p_pay_click</th>\n",
       "      <td>Probability of payment, given click</td>\n",
       "      <td>0.109313</td>\n",
       "      <td>0.109313</td>\n",
       "    </tr>\n",
       "  </tbody>\n",
       "</table>\n",
       "</div>"
      ],
      "text/plain": [
       "                                                 full_metric_name  \\\n",
       "pageviews       Unique cookies to view course overview page pe...   \n",
       "clicks          Unique cookies to click \"Start free trial\" per...   \n",
       "enrollments                                  Enrollments per day:   \n",
       "ctp              Click-through-probability on \"Start free trial\":   \n",
       "p_enroll_click             Probability of enrolling, given click:   \n",
       "p_pay_enroll                Probability of payment, given enroll:   \n",
       "p_pay_click                   Probability of payment, given click   \n",
       "\n",
       "                       value       sample  \n",
       "pageviews       40000.000000  5000.000000  \n",
       "clicks           3200.000000   400.000000  \n",
       "enrollments       660.000000    82.500000  \n",
       "ctp                 0.080000     0.080000  \n",
       "p_enroll_click      0.206250     0.206250  \n",
       "p_pay_enroll        0.530000     0.530000  \n",
       "p_pay_click         0.109313     0.109313  "
      ]
     },
     "execution_count": 15,
     "metadata": {},
     "output_type": "execute_result"
    }
   ],
   "source": [
    "values = baseline['value'].tolist()\n",
    "\n",
    "# Scale pageviews, clicks, enrollments for the sample of 5000 pageviews\n",
    "# Leave the probabilities the same\n",
    "sample_vals = []\n",
    "for i in range(0, len(values)):\n",
    "    if i < 3:\n",
    "        sample_vals.append(values[i]*scale_factor)\n",
    "    else:\n",
    "        sample_vals.append(values[i])\n",
    "        \n",
    "baseline['sample'] = sample_vals\n",
    "baseline"
   ]
  },
  {
   "cell_type": "markdown",
   "metadata": {},
   "source": [
    "#### Gross Conversion"
   ]
  },
  {
   "cell_type": "code",
   "execution_count": 20,
   "metadata": {},
   "outputs": [
    {
     "data": {
      "text/plain": [
       "0.020230604137049392"
      ]
     },
     "execution_count": 20,
     "metadata": {},
     "output_type": "execute_result"
    }
   ],
   "source": [
    "# p = probability of enrolling given click\n",
    "p = baseline.loc['p_enroll_click', 'value']\n",
    "q = 1 - p\n",
    "\n",
    "gc_std = math.sqrt(p*q/baseline.loc['clicks', 'sample'])\n",
    "gc_std"
   ]
  },
  {
   "cell_type": "markdown",
   "metadata": {},
   "source": [
    "#### Net Conversion"
   ]
  },
  {
   "cell_type": "code",
   "execution_count": 21,
   "metadata": {},
   "outputs": [
    {
     "data": {
      "text/plain": [
       "0.01560154458248846"
      ]
     },
     "execution_count": 21,
     "metadata": {},
     "output_type": "execute_result"
    }
   ],
   "source": [
    "# p = probability of making a payment given click\n",
    "p = baseline.loc['p_pay_click', 'value']\n",
    "q = 1 - p\n",
    "\n",
    "nc_std = math.sqrt(p*q/baseline.loc['clicks', 'sample'])\n",
    "nc_std"
   ]
  },
  {
   "cell_type": "markdown",
   "metadata": {},
   "source": [
    "#### Standard Deviation Summary\n",
    "\n",
    "| Evaluation Metric | Standard Deviation   |\n",
    "|:------------------|:---------------------|\n",
    "| Gross conversion  | 0.020230604137049392 |\n",
    "| Net conversion    | 0.01560154458248846  |"
   ]
  },
  {
   "cell_type": "markdown",
   "metadata": {},
   "source": [
    "### Sizing"
   ]
  },
  {
   "cell_type": "markdown",
   "metadata": {},
   "source": [
    "The [Sample Size Calculator](http://www.evanmiller.org/ab-testing/sample-size.html) was used with the appropriate baseline values, and a statistical power $1-\\beta = 0.8$ and significance level $\\alpha = 0.05$ to calculate the necessary sample size required to detect the practical significance.\n",
    "\n",
    "Given the baseline value of gross conversion (the probability of enrolling given click) of 0.20625 and practical signficance of 1%, 25,835 cookies are required for the experiment group.  Given the baseline value of net conversion (the probability of making a payment given click) of 0.1093125 and a practical significance of 0.75%, 27,413 cookies are required for the experiment group.\n",
    "\n",
    "Since the unit of diversion is a cookie, we need to divide by the click-through-probability for the \"Start free trial\" button (0.08) to get the pageviews, and multiply by two to get the total required for the control and experiment.  This yields 645,875 pageviews for gross conversion and 685,325 for net conversion.  685,325 pageviews are therefore used for the experiment, in order to detect effects for both metrics."
   ]
  },
  {
   "cell_type": "code",
   "execution_count": 83,
   "metadata": {},
   "outputs": [],
   "source": [
    "# Results from the sample size calculator\n",
    "gc_cookies = 25835\n",
    "nc_cookies = 27413\n",
    "\n",
    "gc_pageviews = int((gc_cookies * 2)/0.08)\n",
    "nc_pageviews = int((nc_cookies * 2)/0.08)"
   ]
  },
  {
   "cell_type": "markdown",
   "metadata": {},
   "source": [
    "| Evaluation Metric | Pageviews Required |\n",
    "|:------------------|:-------------------|\n",
    "| Gross conversion  | 645,875            |\n",
    "| Net conversion    | 685,325            |\n",
    "| FINAL             | 685,325            |"
   ]
  },
  {
   "cell_type": "markdown",
   "metadata": {},
   "source": [
    "The unit of analysis for gross conversion and net conversion is the number of cookies that click the button.  However, for retention the unit of analysis is the number of user-ids that complete checkout.  The unit of diversion for the experiment is a cookie that clicks the \"Start free trial\" button.  Since the unit of analysis for retention is not the same as the unit of diversion, it would require many more pageviews than gross conversion or net conversion. In order to test retention, we would require 39,115 cookies that have made a payment, given a baseline value of 0.53 and a practical significance of 1%.  Dividing this number by the click-through-probability on the button (0.08) times the the probability of enrolling given a click (0.20625) yields the number of pageviews required.\n",
    "```\n",
    "39115/(0.08*0.20625) = 4,741,212.121\n",
    "```\n",
    "This number of pageviews would greatly increase the length of the experiment, hence retention was not chosen as an evaluation metric."
   ]
  },
  {
   "cell_type": "markdown",
   "metadata": {},
   "source": [
    "### Duration and Exposure"
   ]
  },
  {
   "cell_type": "markdown",
   "metadata": {},
   "source": [
    "This experiment represents a somewhat risky change for Udacity, since it could lead more users to opt to access the free course materials, instead of enrolling in the free trial, which could ultimately lead to fewer paid enrollments.  In addition, any flaws in the implementation could dissuade users from enrolling.  In order to mitigate the risk while also diverting enough traffic to not overly prolong the experiment, I would divert 50% of the traffic to this experiment.  Given that baseline value of 40,000 daily pageviews, and 685,325 required pageviews to run the experiment, it would take 35 days to run the experiment.\n",
    "```\n",
    "685,325/(40000 * 0.5)  = 34.26625\n",
    "```"
   ]
  },
  {
   "cell_type": "markdown",
   "metadata": {},
   "source": [
    "## Experiment Analysis"
   ]
  },
  {
   "cell_type": "markdown",
   "metadata": {},
   "source": [
    "### Sanity Checks"
   ]
  },
  {
   "cell_type": "markdown",
   "metadata": {},
   "source": [
    "Sanity Checks\n",
    "\n",
    "For each of the invariant metrics, a 95% confidence interval needs to be created for the values that one expects to observe, in order to check the sizing and proper execution of the experiment.\n",
    "\n",
    "The meaning of each field name:\n",
    "* Pageviews: Number of unique cookies to view the course overview page\n",
    "* Clicks: Number of unique cookies to click the course overview page\n",
    "* Enrollments: Number of user-ids to enroll\n",
    "* Payments: Number of user-ids who enrolled and remained enrolled for 14 days and thus made a payment\n",
    "\n",
    "Invariant metrics to check:\n",
    "1.\tNumber of unique cookies to view the course overview page (pageviews)\n",
    "2.\tNumber of unique clicks to click the “Start free trial” button (clicks)\n",
    "3.\tClick-through-probability of clicking “Start free trial” button from the course overview page"
   ]
  },
  {
   "cell_type": "markdown",
   "metadata": {},
   "source": [
    "#### Checking pageviews"
   ]
  },
  {
   "cell_type": "code",
   "execution_count": 48,
   "metadata": {},
   "outputs": [
    {
     "name": "stdout",
     "output_type": "stream",
     "text": [
      "345543\n",
      "344660\n"
     ]
    }
   ],
   "source": [
    "tot_pvs_cont = res_cont['Pageviews'].sum()\n",
    "tot_pvs_exp = res_exp['Pageviews'].sum()\n",
    "\n",
    "print(tot_pvs_cont)\n",
    "print(tot_pvs_exp)"
   ]
  },
  {
   "cell_type": "code",
   "execution_count": 38,
   "metadata": {},
   "outputs": [
    {
     "data": {
      "text/plain": [
       "0.0006018407402943247"
      ]
     },
     "execution_count": 38,
     "metadata": {},
     "output_type": "execute_result"
    }
   ],
   "source": [
    "std_err_pvs = math.sqrt((0.5*0.5)/(tot_pvs_cont + tot_pvs_exp))\n",
    "std_err_pvs"
   ]
  },
  {
   "cell_type": "code",
   "execution_count": 41,
   "metadata": {},
   "outputs": [
    {
     "data": {
      "text/plain": [
       "0.0011796078509768765"
      ]
     },
     "execution_count": 41,
     "metadata": {},
     "output_type": "execute_result"
    }
   ],
   "source": [
    "margin_err_pvs = 1.96 * std_err_pvs\n",
    "margin_err_pvs"
   ]
  },
  {
   "cell_type": "code",
   "execution_count": 43,
   "metadata": {},
   "outputs": [
    {
     "data": {
      "text/plain": [
       "[0.49882039214902313, 0.5011796078509769]"
      ]
     },
     "execution_count": 43,
     "metadata": {},
     "output_type": "execute_result"
    }
   ],
   "source": [
    "conf_interval_pvs = [0.5 - margin_err_pvs, 0.5 + margin_err_pvs]\n",
    "conf_interval_pvs"
   ]
  },
  {
   "cell_type": "code",
   "execution_count": 50,
   "metadata": {},
   "outputs": [
    {
     "data": {
      "text/plain": [
       "0.5006396668806133"
      ]
     },
     "execution_count": 50,
     "metadata": {},
     "output_type": "execute_result"
    }
   ],
   "source": [
    "actual_pvs = tot_pvs_cont/(tot_pvs_cont + tot_pvs_exp)\n",
    "actual_pvs"
   ]
  },
  {
   "cell_type": "markdown",
   "metadata": {},
   "source": [
    "#### Checking clicks"
   ]
  },
  {
   "cell_type": "code",
   "execution_count": 54,
   "metadata": {},
   "outputs": [
    {
     "name": "stdout",
     "output_type": "stream",
     "text": [
      "28378\n",
      "28325\n"
     ]
    }
   ],
   "source": [
    "tot_clicks_cont = res_cont['Clicks'].sum()\n",
    "tot_clicks_exp = res_exp['Clicks'].sum()\n",
    "\n",
    "print(tot_clicks_cont)\n",
    "print(tot_clicks_exp)"
   ]
  },
  {
   "cell_type": "code",
   "execution_count": 57,
   "metadata": {},
   "outputs": [
    {
     "data": {
      "text/plain": [
       "0.002099747079699252"
      ]
     },
     "execution_count": 57,
     "metadata": {},
     "output_type": "execute_result"
    }
   ],
   "source": [
    "std_err_clicks = math.sqrt((0.5*0.5)/(tot_clicks_cont + tot_clicks_exp))\n",
    "std_err_clicks"
   ]
  },
  {
   "cell_type": "code",
   "execution_count": 58,
   "metadata": {},
   "outputs": [
    {
     "data": {
      "text/plain": [
       "0.0041155042762105335"
      ]
     },
     "execution_count": 58,
     "metadata": {},
     "output_type": "execute_result"
    }
   ],
   "source": [
    "margin_err_clicks = 1.96 * std_err_clicks\n",
    "margin_err_clicks"
   ]
  },
  {
   "cell_type": "code",
   "execution_count": 59,
   "metadata": {},
   "outputs": [
    {
     "data": {
      "text/plain": [
       "[0.49588449572378945, 0.5041155042762105]"
      ]
     },
     "execution_count": 59,
     "metadata": {},
     "output_type": "execute_result"
    }
   ],
   "source": [
    "conf_interval_clicks = [0.5 - margin_err_clicks, 0.5 + margin_err_clicks]\n",
    "conf_interval_clicks"
   ]
  },
  {
   "cell_type": "code",
   "execution_count": 60,
   "metadata": {},
   "outputs": [
    {
     "data": {
      "text/plain": [
       "0.5004673474066628"
      ]
     },
     "execution_count": 60,
     "metadata": {},
     "output_type": "execute_result"
    }
   ],
   "source": [
    "actual_clicks = tot_clicks_cont/(tot_clicks_cont + tot_clicks_exp)\n",
    "actual_clicks"
   ]
  },
  {
   "cell_type": "markdown",
   "metadata": {},
   "source": [
    "I used a normal approximation of the binomial distribution to model the assignment of cookies to the experimental and control groups.  The normal approximation can be used since the sample size is suitably large.  The standard error for both of the above is calculated as:\n",
    "\n",
    "$$\\sqrt{p(1-p) \\over n_{1}+n_{2}}$$\n",
    "\n",
    "Since assignment is random, the probabilities of being chosen for the experiment or control are both 0.5.  The confidence interval is centered around 0.5, the mean of the distribution.  Both of these sanity checks pass as the actual values (actual_pvs and actual_clicks) fall within the confidence intervals calculated in conf_interval_pvs and conf_interval_clicks, respectively."
   ]
  },
  {
   "cell_type": "markdown",
   "metadata": {},
   "source": [
    "#### Checking click-through-probability"
   ]
  },
  {
   "cell_type": "code",
   "execution_count": 61,
   "metadata": {},
   "outputs": [
    {
     "data": {
      "text/plain": [
       "0.08212581357457682"
      ]
     },
     "execution_count": 61,
     "metadata": {},
     "output_type": "execute_result"
    }
   ],
   "source": [
    "ctp_cont = tot_clicks_cont/tot_pvs_cont\n",
    "ctp_cont"
   ]
  },
  {
   "cell_type": "code",
   "execution_count": 62,
   "metadata": {},
   "outputs": [
    {
     "data": {
      "text/plain": [
       "0.08218244066616376"
      ]
     },
     "execution_count": 62,
     "metadata": {},
     "output_type": "execute_result"
    }
   ],
   "source": [
    "ctp_exp = tot_clicks_exp/tot_pvs_exp\n",
    "ctp_exp"
   ]
  },
  {
   "cell_type": "code",
   "execution_count": 68,
   "metadata": {},
   "outputs": [
    {
     "name": "stdout",
     "output_type": "stream",
     "text": [
      "0.08215409089789526\n"
     ]
    }
   ],
   "source": [
    "# p = pooled probability of click-through-probability\n",
    "p = (tot_clicks_cont + tot_clicks_exp) / (tot_pvs_cont + tot_pvs_exp)\n",
    "print(p)\n",
    "q = 1 - p"
   ]
  },
  {
   "cell_type": "code",
   "execution_count": 71,
   "metadata": {},
   "outputs": [
    {
     "data": {
      "text/plain": [
       "0.0006610608156387222"
      ]
     },
     "execution_count": 71,
     "metadata": {},
     "output_type": "execute_result"
    }
   ],
   "source": [
    "pooled_std_err_ctp = math.sqrt(p*q*(1/tot_pvs_cont + 1/tot_pvs_exp))\n",
    "pooled_std_err_ctp"
   ]
  },
  {
   "cell_type": "code",
   "execution_count": 73,
   "metadata": {},
   "outputs": [
    {
     "data": {
      "text/plain": [
       "0.0012956791986518956"
      ]
     },
     "execution_count": 73,
     "metadata": {},
     "output_type": "execute_result"
    }
   ],
   "source": [
    "margin_err_ctp = 1.96 * pooled_std_err_ctp\n",
    "margin_err_ctp"
   ]
  },
  {
   "cell_type": "code",
   "execution_count": 77,
   "metadata": {},
   "outputs": [
    {
     "data": {
      "text/plain": [
       "[-0.0012956791986518956, 0.0012956791986518956]"
      ]
     },
     "execution_count": 77,
     "metadata": {},
     "output_type": "execute_result"
    }
   ],
   "source": [
    "conf_interval_ctp = [0 - margin_err_ctp, 0 + margin_err_ctp]\n",
    "conf_interval_ctp"
   ]
  },
  {
   "cell_type": "code",
   "execution_count": 78,
   "metadata": {},
   "outputs": [
    {
     "data": {
      "text/plain": [
       "5.662709158693602e-05"
      ]
     },
     "execution_count": 78,
     "metadata": {},
     "output_type": "execute_result"
    }
   ],
   "source": [
    "ctp_diff = ctp_exp - ctp_cont\n",
    "ctp_diff"
   ]
  },
  {
   "cell_type": "markdown",
   "metadata": {},
   "source": [
    "The invariant metric above is calculated as clicks divided by pageviews.  Once again, the normal approximation of the binomial distribution is used, but this time it is centered around the pooled probability.  The pooled standard error is calculated as:\n",
    "\n",
    "$$ \\sqrt{p(1-p) \\left({1 \\over n_{1}} + {1 \\over n_{2}} \\right)}$$\n",
    "\n",
    "In order for the sanity check to pass, the difference between the click-through-probabilities for the control and experiment groups needs to be in the 95% confidence interval constructed around 0.  This sanity check passes as the actual difference in ctp_diff falls within the confidence interval calculated in conf_interval_ctp."
   ]
  },
  {
   "cell_type": "markdown",
   "metadata": {},
   "source": [
    "#### Sanity Checks Summary\n",
    "\n",
    "| Invariant Metric         | Actual Value | CI Lower Bound | CI Upper Bound | Pass? |\n",
    "|:-------------------------|:-------------|:---------------|:---------------|:------|\n",
    "| pageviews                | 0.500639667  | 0.498820392    | 0.501179608    | Yes   |\n",
    "| clicks                   | 0.500467347  | 0.495884496    | 0.504115504    | Yes   |\n",
    "| click-through-probability| 0.000056627  | -0.001295679   | 0.001295679    | Yes   |"
   ]
  },
  {
   "cell_type": "code",
   "execution_count": null,
   "metadata": {},
   "outputs": [],
   "source": []
  }
 ],
 "metadata": {
  "kernelspec": {
   "display_name": "Python 3",
   "language": "python",
   "name": "python3"
  },
  "language_info": {
   "codemirror_mode": {
    "name": "ipython",
    "version": 3
   },
   "file_extension": ".py",
   "mimetype": "text/x-python",
   "name": "python",
   "nbconvert_exporter": "python",
   "pygments_lexer": "ipython3",
   "version": "3.6.4"
  }
 },
 "nbformat": 4,
 "nbformat_minor": 2
}
